{
  "nbformat": 4,
  "nbformat_minor": 0,
  "metadata": {
    "colab": {
      "provenance": []
    },
    "kernelspec": {
      "name": "python3",
      "display_name": "Python 3"
    },
    "language_info": {
      "name": "python"
    }
  },
  "cells": [
    {
      "cell_type": "code",
      "execution_count": 1,
      "metadata": {
        "id": "AG-RDrCJfDtN"
      },
      "outputs": [],
      "source": [
        "# ReLu Function\n",
        "def relu(z):\n",
        "  if z<0:\n",
        "    return 0\n",
        "\n",
        "  return z "
      ]
    },
    {
      "cell_type": "code",
      "source": [
        "print(relu(0),relu(-1),relu(10))"
      ],
      "metadata": {
        "colab": {
          "base_uri": "https://localhost:8080/"
        },
        "id": "PL2pCPzsgPzx",
        "outputId": "97a81c88-3685-4ead-9fc7-54ffa0b43379"
      },
      "execution_count": 2,
      "outputs": [
        {
          "output_type": "stream",
          "name": "stdout",
          "text": [
            "0 0 10\n"
          ]
        }
      ]
    },
    {
      "cell_type": "code",
      "source": [
        "e=2.718"
      ],
      "metadata": {
        "id": "8QNM9z-ng0W_"
      },
      "execution_count": 3,
      "outputs": []
    },
    {
      "cell_type": "code",
      "source": [
        "# Sigmoid function\n",
        "def sigmoid(z):\n",
        "  return 1/(1+e**(-z))"
      ],
      "metadata": {
        "id": "HR53zyaygUOz"
      },
      "execution_count": 4,
      "outputs": []
    },
    {
      "cell_type": "code",
      "source": [
        "print(sigmoid(0),sigmoid(-1),sigmoid(10))"
      ],
      "metadata": {
        "colab": {
          "base_uri": "https://localhost:8080/"
        },
        "id": "6qZruSsahCEt",
        "outputId": "f9b7feea-8405-4efc-d49c-9db1acc49278"
      },
      "execution_count": 5,
      "outputs": [
        {
          "output_type": "stream",
          "name": "stdout",
          "text": [
            "0.5 0.2689618074233459 0.9999545550385778\n"
          ]
        }
      ]
    },
    {
      "cell_type": "code",
      "source": [
        "# tanh function\n",
        "def tanh(z):\n",
        "  return (1-pow(e,-2*z))/(1+pow(e,-2*z))"
      ],
      "metadata": {
        "id": "sW1zGYyDhHvV"
      },
      "execution_count": 6,
      "outputs": []
    },
    {
      "cell_type": "code",
      "source": [
        "print(tanh(0),tanh(-1),tanh(10))"
      ],
      "metadata": {
        "colab": {
          "base_uri": "https://localhost:8080/"
        },
        "id": "XRGDhjlVh3nD",
        "outputId": "47f29713-9e68-4146-e72e-6d30ae811e86"
      },
      "execution_count": 7,
      "outputs": [
        {
          "output_type": "stream",
          "name": "stdout",
          "text": [
            "0.0 -0.7615506077836559 0.9999999958691355\n"
          ]
        }
      ]
    }
  ]
}