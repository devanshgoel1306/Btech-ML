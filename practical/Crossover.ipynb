{
 "cells": [
  {
   "cell_type": "code",
   "execution_count": 1,
   "id": "a550c27d",
   "metadata": {},
   "outputs": [],
   "source": [
    "#Crossover is an operation done in Genetic Algorithms.\n",
    "# Crossover- To generate offsprings by combining genes of parents.\n",
    "# Three types of Crossover:\n",
    "# 1. Single Point\n",
    "# ex- parent1 gene- 1,0,0,1,0,1\n",
    "#     parent2 gene- 0,1,0,0,1,1\n",
    "#     point of crossover is position 2\n",
    "#     Offspring1- 1,0,0,0,1,1\n",
    "#     Offspring2- 0,1,0,1,0,1\n",
    "#     (pattern upto position 2 will remain same and then from 3 to 6 swapping will take place)\n",
    "# Here we have taken 0,1 to create an analogy with genes pattern.\n",
    "\n",
    "# 2. Two point\n",
    "# ex- parent1 gene- 1,0,0,1,0,1\n",
    "#     parent2 gene- 0,1,1,0,1,1\n",
    "#     point of crossover are position 2,4\n",
    "#     Offspring1- 1,0,1,1,0,1\n",
    "#     Offspring2- 0,1,0,0,1,1\n",
    "#     (pattern from 1 to 2 and 4 to 6 will remain same)\n",
    "    \n",
    "# 3. Multipoint\n",
    "# ex- parent1 gene- 1,0,0,1,0,1\n",
    "#     parent2 gene- 0,1,0,0,1,1\n",
    "#     point of crossover are position 1,3,4\n",
    "#     Offspring1- 1,1,0,1,1,1\n",
    "#     Offspring2- 0,0,0,0,0,1\n",
    "#     (pattern from 1 to 1, 3 to 4 will remain same)"
   ]
  },
  {
   "cell_type": "code",
   "execution_count": 2,
   "id": "d30999fa",
   "metadata": {},
   "outputs": [],
   "source": [
    "# Input file crossover.txt\n",
    "# 3\n",
    "# Single Point\n",
    "# 1,0,0,1,0,1\n",
    "# 0,1,0,0,1,1\n",
    "# 2\n",
    "# Two Point\n",
    "# 1,0,0,1,0,1\n",
    "# 0,1,1,0,1,1\n",
    "# 2,4\n",
    "# Multi Point\n",
    "# 1,0,0,1,0,1\n",
    "# 0,1,0,0,1,1\n",
    "# 1,3,4"
   ]
  },
  {
   "cell_type": "code",
   "execution_count": 3,
   "id": "66b6adfb",
   "metadata": {},
   "outputs": [],
   "source": [
    "def crossover(p1, p2, pos):\n",
    "    points= len(pos)\n",
    "    \n",
    "    #initializing offsprings with 1st unchanged genes\n",
    "    o1= p1[:pos[0]]\n",
    "    o2= p2[:pos[0]]\n",
    "    i=1\n",
    "    while i<points:\n",
    "        #if i is odd\n",
    "        #then no swapping\n",
    "        #else swap\n",
    "        if i%2!=0:\n",
    "            lower,upper=pos[i-1], pos[i]-1\n",
    "            #print(lower,upper)\n",
    "            o1+= p2[lower:upper]\n",
    "            o2+= p1[lower:upper]\n",
    "        else:\n",
    "            lower,upper=pos[i-1]-1, pos[i]\n",
    "            print(lower,upper)\n",
    "            o1+= p1[lower:upper]\n",
    "            o2+= p2[lower:upper]   \n",
    "        i+=1\n",
    "        \n",
    "    #if no. of points is odd\n",
    "    #then swap\n",
    "    if points%2!=0:\n",
    "        o1+= p2[pos[i-1]:]\n",
    "        o2+= p1[pos[i-1]:]\n",
    "    else:\n",
    "        o1+= p1[pos[i-1]-1:]\n",
    "        o2+= p2[pos[i-1]-1:]\n",
    "    \n",
    "    o1,o2= ''.join(o1),''.join(o2)\n",
    "    print(f'Offsprings are {o1} and {o2}.')"
   ]
  },
  {
   "cell_type": "code",
   "execution_count": 4,
   "id": "8fc40114",
   "metadata": {},
   "outputs": [],
   "source": [
    "#open file crossover.txt for input\n",
    "file= open('crossover.txt')"
   ]
  },
  {
   "cell_type": "code",
   "execution_count": 5,
   "id": "eb01805c",
   "metadata": {},
   "outputs": [],
   "source": [
    "#no. of crossovers required\n",
    "n_cross= int(file.readline().strip())"
   ]
  },
  {
   "cell_type": "code",
   "execution_count": 6,
   "id": "94443849",
   "metadata": {},
   "outputs": [
    {
     "name": "stdout",
     "output_type": "stream",
     "text": [
      "Offsprings are 100011 and 010101.\n",
      "Offsprings are 101101 and 010011.\n",
      "2 4\n",
      "Offsprings are 110111 and 000001.\n"
     ]
    }
   ],
   "source": [
    "for i in range(n_cross):\n",
    "    #input type of crossover\n",
    "    #.strip() function to remove new line character\n",
    "    type_= file.readline().strip()\n",
    "    #print(type_)\n",
    "    \n",
    "    #input parent genes\n",
    "    parent1= list(file.readline().strip().split(','))\n",
    "    parent2= list(file.readline().strip().split(','))\n",
    "    #print(parent1, parent2)\n",
    "    \n",
    "    #input crossover position\n",
    "    #using map function converting char to int\n",
    "    position= list(map(int,file.readline().strip().split(',')))\n",
    "    #print(position)\n",
    "    \n",
    "    crossover(parent1, parent2, position)"
   ]
  }
 ],
 "metadata": {
  "kernelspec": {
   "display_name": "Python 3 (ipykernel)",
   "language": "python",
   "name": "python3"
  },
  "language_info": {
   "codemirror_mode": {
    "name": "ipython",
    "version": 3
   },
   "file_extension": ".py",
   "mimetype": "text/x-python",
   "name": "python",
   "nbconvert_exporter": "python",
   "pygments_lexer": "ipython3",
   "version": "3.7.11"
  }
 },
 "nbformat": 4,
 "nbformat_minor": 5
}
